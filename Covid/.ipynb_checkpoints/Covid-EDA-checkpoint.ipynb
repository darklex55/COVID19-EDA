{
 "cells": [
  {
   "cell_type": "code",
   "execution_count": 53,
   "metadata": {},
   "outputs": [],
   "source": [
    "import pandas as pd\n",
    "import numpy as np\n",
    "import seaborn as sns\n",
    "from datetime import date, timedelta"
   ]
  },
  {
   "cell_type": "code",
   "execution_count": 29,
   "metadata": {},
   "outputs": [],
   "source": [
    "df = pd.read_csv('../Datasets/Covid/covid_19_clean_complete.csv')"
   ]
  },
  {
   "cell_type": "code",
   "execution_count": 89,
   "metadata": {},
   "outputs": [
    {
     "name": "stdout",
     "output_type": "stream",
     "text": [
      "<class 'pandas.core.frame.DataFrame'>\n",
      "RangeIndex: 11960 entries, 0 to 11959\n",
      "Data columns (total 9 columns):\n",
      "Province/State    5876 non-null object\n",
      "Country/Region    11960 non-null object\n",
      "Lat               11960 non-null float64\n",
      "Long              11960 non-null float64\n",
      "Confirmed         11960 non-null int64\n",
      "Deaths            11960 non-null int64\n",
      "Recovered         11960 non-null int64\n",
      "Day               11960 non-null int64\n",
      "Month             11960 non-null int64\n",
      "dtypes: float64(2), int64(5), object(2)\n",
      "memory usage: 841.1+ KB\n",
      "None\n"
     ]
    },
    {
     "data": {
      "text/html": [
       "<div>\n",
       "<style scoped>\n",
       "    .dataframe tbody tr th:only-of-type {\n",
       "        vertical-align: middle;\n",
       "    }\n",
       "\n",
       "    .dataframe tbody tr th {\n",
       "        vertical-align: top;\n",
       "    }\n",
       "\n",
       "    .dataframe thead th {\n",
       "        text-align: right;\n",
       "    }\n",
       "</style>\n",
       "<table border=\"1\" class=\"dataframe\">\n",
       "  <thead>\n",
       "    <tr style=\"text-align: right;\">\n",
       "      <th></th>\n",
       "      <th>Province/State</th>\n",
       "      <th>Country/Region</th>\n",
       "      <th>Lat</th>\n",
       "      <th>Long</th>\n",
       "      <th>Confirmed</th>\n",
       "      <th>Deaths</th>\n",
       "      <th>Recovered</th>\n",
       "      <th>Day</th>\n",
       "      <th>Month</th>\n",
       "    </tr>\n",
       "  </thead>\n",
       "  <tbody>\n",
       "    <tr>\n",
       "      <th>0</th>\n",
       "      <td>NaN</td>\n",
       "      <td>Thailand</td>\n",
       "      <td>15.0</td>\n",
       "      <td>101.0</td>\n",
       "      <td>2</td>\n",
       "      <td>0</td>\n",
       "      <td>0</td>\n",
       "      <td>22</td>\n",
       "      <td>1</td>\n",
       "    </tr>\n",
       "    <tr>\n",
       "      <th>1</th>\n",
       "      <td>NaN</td>\n",
       "      <td>Japan</td>\n",
       "      <td>36.0</td>\n",
       "      <td>138.0</td>\n",
       "      <td>2</td>\n",
       "      <td>0</td>\n",
       "      <td>0</td>\n",
       "      <td>22</td>\n",
       "      <td>1</td>\n",
       "    </tr>\n",
       "  </tbody>\n",
       "</table>\n",
       "</div>"
      ],
      "text/plain": [
       "  Province/State Country/Region   Lat   Long  Confirmed  Deaths  Recovered  \\\n",
       "0            NaN       Thailand  15.0  101.0          2       0          0   \n",
       "1            NaN          Japan  36.0  138.0          2       0          0   \n",
       "\n",
       "   Day  Month  \n",
       "0   22      1  \n",
       "1   22      1  "
      ]
     },
     "execution_count": 89,
     "metadata": {},
     "output_type": "execute_result"
    }
   ],
   "source": [
    "print(df.info())  ##General info for dataset\n",
    "df.head(2)"
   ]
  },
  {
   "cell_type": "code",
   "execution_count": 31,
   "metadata": {},
   "outputs": [],
   "source": [
    "df['Day']=df['Date'].apply(lambda x: int(x.split('/')[1]))           ##Turn Date into\n",
    "df['Month']=df['Date'].apply(lambda x: int(x.split('/')[0]))         ##usefull, countable\n",
    "df.drop(['Date'],axis=1,inplace=True)                                ##data."
   ]
  },
  {
   "cell_type": "code",
   "execution_count": 88,
   "metadata": {},
   "outputs": [
    {
     "name": "stdout",
     "output_type": "stream",
     "text": [
      "Confirmed in Italy: 17660\n",
      "Confirmed only yesterday: 5198\n",
      "Deaths in Italy: 1266\n",
      "First Confirmed: 31/1\n",
      "\n",
      "Confirmed in Greece: 190\n",
      "Confirmed only yesterday: 91\n",
      "Deaths in Greece: 1\n",
      "First Confirmed: 26/2\n",
      "\n",
      "Confirmed in Albania: 33\n",
      "Confirmed only yesterday: 10\n",
      "Deaths in Albania: 1\n",
      "First Confirmed: 9/3\n",
      "\n",
      "Confirmed in Bulgaria: 23\n",
      "Confirmed only yesterday: 16\n",
      "Deaths in Bulgaria: 1\n",
      "First Confirmed: 8/3\n",
      "\n",
      "Confirmed in North Macedonia: 14\n",
      "Confirmed only yesterday: 7\n",
      "Deaths in North Macedonia: 0\n",
      "First Confirmed: 26/2\n",
      "\n",
      "Confirmed in Turkey: 5\n",
      "Confirmed only yesterday: 4\n",
      "Deaths in Turkey: 0\n",
      "First Confirmed: 11/3\n",
      "\n",
      "Confirmed in Egypt: 80\n",
      "Confirmed only yesterday: 13\n",
      "Deaths in Egypt: 2\n",
      "First Confirmed: 14/2\n",
      "\n",
      "As of 2020-03-14.\n"
     ]
    },
    {
     "name": "stderr",
     "output_type": "stream",
     "text": [
      "c:\\users\\alexa\\appdata\\local\\programs\\python\\python36\\lib\\site-packages\\ipykernel_launcher.py:4: UserWarning: Boolean Series key will be reindexed to match DataFrame index.\n",
      "  after removing the cwd from sys.path.\n",
      "c:\\users\\alexa\\appdata\\local\\programs\\python\\python36\\lib\\site-packages\\ipykernel_launcher.py:5: UserWarning: Boolean Series key will be reindexed to match DataFrame index.\n",
      "  \"\"\"\n"
     ]
    }
   ],
   "source": [
    "Country_List = ['Italy','Greece','Albania','Bulgaria','North Macedonia','Turkey','Egypt'] ##Countries to be listed\n",
    "\n",
    "for i in Country_List:\n",
    "    print('Confirmed in '+ i +': ' + str(df[df['Country/Region']==i][df['Month']==int(str(date.today()-timedelta(days=1)).split('-')[1])][df['Day']==int(str(date.today()-timedelta(days=1)).split('-')[2])]['Confirmed'].to_numpy()[0])+'\\nConfirmed only yesterday: '+str(df[df['Country/Region']==i][df['Month']==int(str(date.today()-timedelta(days=1)).split('-')[1])][df['Day']==int(str(date.today()-timedelta(days=1)).split('-')[2])]['Confirmed'].to_numpy()[0]-df[df['Country/Region']==i][df['Month']==int(str(date.today()-timedelta(days=2)).split('-')[1])][df['Day']==int(str(date.today()-timedelta(days=2)).split('-')[2])]['Confirmed'].to_numpy()[0])+'\\nDeaths in ' + i + ': ' + str(df[df['Country/Region']==i][df['Month']==int(str(date.today()-timedelta(days=1)).split('-')[1])][df['Day']==int(str(date.today()-timedelta(days=1)).split('-')[2])]['Deaths'].to_numpy()[0]))\n",
    "    print('First Confirmed: ' + str(df[df['Country/Region']==i][df['Confirmed']>0][df['Month']==df[df['Country/Region']==i][df['Confirmed']>0]['Month'].min()]['Day'].min())+ '/'+ str(df[df['Country/Region']==i][df['Confirmed']>0]['Month'].min()) + '\\n')\n",
    "\n",
    "print('As of '+str(date.today())+'.')"
   ]
  }
 ],
 "metadata": {
  "kernelspec": {
   "display_name": "Python 3",
   "language": "python",
   "name": "python3"
  },
  "language_info": {
   "codemirror_mode": {
    "name": "ipython",
    "version": 3
   },
   "file_extension": ".py",
   "mimetype": "text/x-python",
   "name": "python",
   "nbconvert_exporter": "python",
   "pygments_lexer": "ipython3",
   "version": "3.6.8"
  }
 },
 "nbformat": 4,
 "nbformat_minor": 4
}
