{
 "cells": [
  {
   "cell_type": "code",
   "execution_count": 1,
   "metadata": {},
   "outputs": [],
   "source": [
    "import pandas as pd\n",
    "import numpy as np\n",
    "import seaborn as sns\n",
    "from datetime import date, timedelta"
   ]
  },
  {
   "cell_type": "code",
   "execution_count": 2,
   "metadata": {},
   "outputs": [],
   "source": [
    "df = pd.read_csv('../Datasets/Covid/covid_19_clean_complete.csv')"
   ]
  },
  {
   "cell_type": "code",
   "execution_count": 3,
   "metadata": {},
   "outputs": [
    {
     "name": "stdout",
     "output_type": "stream",
     "text": [
      "<class 'pandas.core.frame.DataFrame'>\n",
      "RangeIndex: 13932 entries, 0 to 13931\n",
      "Data columns (total 8 columns):\n",
      "Province/State    6426 non-null object\n",
      "Country/Region    13932 non-null object\n",
      "Lat               13932 non-null float64\n",
      "Long              13932 non-null float64\n",
      "Date              13932 non-null object\n",
      "Confirmed         13932 non-null int64\n",
      "Deaths            13932 non-null int64\n",
      "Recovered         13932 non-null int64\n",
      "dtypes: float64(2), int64(3), object(3)\n",
      "memory usage: 870.9+ KB\n",
      "None\n"
     ]
    },
    {
     "data": {
      "text/html": [
       "<div>\n",
       "<style scoped>\n",
       "    .dataframe tbody tr th:only-of-type {\n",
       "        vertical-align: middle;\n",
       "    }\n",
       "\n",
       "    .dataframe tbody tr th {\n",
       "        vertical-align: top;\n",
       "    }\n",
       "\n",
       "    .dataframe thead th {\n",
       "        text-align: right;\n",
       "    }\n",
       "</style>\n",
       "<table border=\"1\" class=\"dataframe\">\n",
       "  <thead>\n",
       "    <tr style=\"text-align: right;\">\n",
       "      <th></th>\n",
       "      <th>Province/State</th>\n",
       "      <th>Country/Region</th>\n",
       "      <th>Lat</th>\n",
       "      <th>Long</th>\n",
       "      <th>Date</th>\n",
       "      <th>Confirmed</th>\n",
       "      <th>Deaths</th>\n",
       "      <th>Recovered</th>\n",
       "    </tr>\n",
       "  </thead>\n",
       "  <tbody>\n",
       "    <tr>\n",
       "      <th>12679</th>\n",
       "      <td>NaN</td>\n",
       "      <td>Greece</td>\n",
       "      <td>39.0742</td>\n",
       "      <td>21.8243</td>\n",
       "      <td>3/11/20</td>\n",
       "      <td>99</td>\n",
       "      <td>1</td>\n",
       "      <td>0</td>\n",
       "    </tr>\n",
       "    <tr>\n",
       "      <th>12937</th>\n",
       "      <td>NaN</td>\n",
       "      <td>Greece</td>\n",
       "      <td>39.0742</td>\n",
       "      <td>21.8243</td>\n",
       "      <td>3/12/20</td>\n",
       "      <td>99</td>\n",
       "      <td>1</td>\n",
       "      <td>0</td>\n",
       "    </tr>\n",
       "    <tr>\n",
       "      <th>13195</th>\n",
       "      <td>NaN</td>\n",
       "      <td>Greece</td>\n",
       "      <td>39.0742</td>\n",
       "      <td>21.8243</td>\n",
       "      <td>3/13/20</td>\n",
       "      <td>190</td>\n",
       "      <td>1</td>\n",
       "      <td>0</td>\n",
       "    </tr>\n",
       "    <tr>\n",
       "      <th>13453</th>\n",
       "      <td>NaN</td>\n",
       "      <td>Greece</td>\n",
       "      <td>39.0742</td>\n",
       "      <td>21.8243</td>\n",
       "      <td>3/14/20</td>\n",
       "      <td>228</td>\n",
       "      <td>3</td>\n",
       "      <td>8</td>\n",
       "    </tr>\n",
       "    <tr>\n",
       "      <th>13711</th>\n",
       "      <td>NaN</td>\n",
       "      <td>Greece</td>\n",
       "      <td>39.0742</td>\n",
       "      <td>21.8243</td>\n",
       "      <td>3/15/20</td>\n",
       "      <td>331</td>\n",
       "      <td>4</td>\n",
       "      <td>8</td>\n",
       "    </tr>\n",
       "  </tbody>\n",
       "</table>\n",
       "</div>"
      ],
      "text/plain": [
       "      Province/State Country/Region      Lat     Long     Date  Confirmed  \\\n",
       "12679            NaN         Greece  39.0742  21.8243  3/11/20         99   \n",
       "12937            NaN         Greece  39.0742  21.8243  3/12/20         99   \n",
       "13195            NaN         Greece  39.0742  21.8243  3/13/20        190   \n",
       "13453            NaN         Greece  39.0742  21.8243  3/14/20        228   \n",
       "13711            NaN         Greece  39.0742  21.8243  3/15/20        331   \n",
       "\n",
       "       Deaths  Recovered  \n",
       "12679       1          0  \n",
       "12937       1          0  \n",
       "13195       1          0  \n",
       "13453       3          8  \n",
       "13711       4          8  "
      ]
     },
     "execution_count": 3,
     "metadata": {},
     "output_type": "execute_result"
    }
   ],
   "source": [
    "print(df.info())  ##General info for dataset\n",
    "df[df['Country/Region']=='Greece'].tail()"
   ]
  },
  {
   "cell_type": "code",
   "execution_count": 4,
   "metadata": {},
   "outputs": [],
   "source": [
    "df['Day']=df['Date'].apply(lambda x: int(x.split('/')[1]))           ##Turn Date into\n",
    "df['Month']=df['Date'].apply(lambda x: int(x.split('/')[0]))         ##usefull, countable\n",
    "df.drop(['Date'],axis=1,inplace=True)                                ##data."
   ]
  },
  {
   "cell_type": "code",
   "execution_count": 7,
   "metadata": {
    "scrolled": true
   },
   "outputs": [
    {
     "name": "stdout",
     "output_type": "stream",
     "text": [
      "Confirmed in Italy: 24747\n",
      "Confirmed only yesterday: 3590\n",
      "Deaths in Italy: 1809\n",
      "First Confirmed: 31/1\n",
      "\n",
      "Confirmed in Greece: 331\n",
      "Confirmed only yesterday: 103\n",
      "Deaths in Greece: 4\n",
      "First Confirmed: 26/2\n",
      "\n",
      "Confirmed in Albania: 42\n",
      "Confirmed only yesterday: 4\n",
      "Deaths in Albania: 1\n",
      "First Confirmed: 9/3\n",
      "\n",
      "Confirmed in Bulgaria: 51\n",
      "Confirmed only yesterday: 10\n",
      "Deaths in Bulgaria: 2\n",
      "First Confirmed: 8/3\n",
      "\n",
      "Confirmed in North Macedonia: 14\n",
      "Confirmed only yesterday: 0\n",
      "Deaths in North Macedonia: 0\n",
      "First Confirmed: 26/2\n",
      "\n",
      "Confirmed in Turkey: 6\n",
      "Confirmed only yesterday: 1\n",
      "Deaths in Turkey: 0\n",
      "First Confirmed: 11/3\n",
      "\n",
      "Confirmed in Egypt: 110\n",
      "Confirmed only yesterday: 1\n",
      "Deaths in Egypt: 2\n",
      "First Confirmed: 14/2\n",
      "\n",
      "As of 2020-03-15.\n"
     ]
    },
    {
     "name": "stderr",
     "output_type": "stream",
     "text": [
      "c:\\users\\alexa\\appdata\\local\\programs\\python\\python36\\lib\\site-packages\\ipykernel_launcher.py:5: UserWarning: Boolean Series key will be reindexed to match DataFrame index.\n",
      "  \"\"\"\n",
      "c:\\users\\alexa\\appdata\\local\\programs\\python\\python36\\lib\\site-packages\\ipykernel_launcher.py:6: UserWarning: Boolean Series key will be reindexed to match DataFrame index.\n",
      "  \n"
     ]
    }
   ],
   "source": [
    "Country_List = ['Italy','Greece','Albania','Bulgaria','North Macedonia','Turkey','Egypt'] ##Countries to be listed\n",
    "dt=2 ##1 For last day, 2 for the day before the last one\n",
    "\n",
    "for i in Country_List:\n",
    "    print('Confirmed in '+ i +': ' + str(df[df['Country/Region']==i][df['Month']==int(str(date.today()-timedelta(days=dt)).split('-')[1])][df['Day']==int(str(date.today()-timedelta(days=dt)).split('-')[2])]['Confirmed'].to_numpy()[0])+'\\nConfirmed only yesterday: '+str(df[df['Country/Region']==i][df['Month']==int(str(date.today()-timedelta(days=dt)).split('-')[1])][df['Day']==int(str(date.today()-timedelta(days=dt)).split('-')[2])]['Confirmed'].to_numpy()[0]-df[df['Country/Region']==i][df['Month']==int(str(date.today()-timedelta(days=dt+1)).split('-')[1])][df['Day']==int(str(date.today()-timedelta(days=dt+1)).split('-')[2])]['Confirmed'].to_numpy()[0])+'\\nDeaths in ' + i + ': ' + str(df[df['Country/Region']==i][df['Month']==int(str(date.today()-timedelta(days=dt)).split('-')[1])][df['Day']==int(str(date.today()-timedelta(days=dt)).split('-')[2])]['Deaths'].to_numpy()[0]))\n",
    "    print('First Confirmed: ' + str(df[df['Country/Region']==i][df['Confirmed']>0][df['Month']==df[df['Country/Region']==i][df['Confirmed']>0]['Month'].min()]['Day'].min())+ '/'+ str(df[df['Country/Region']==i][df['Confirmed']>0]['Month'].min()) + '\\n')\n",
    "\n",
    "print('As of '+str(date.today()-timedelta(days=dt))+'.')"
   ]
  },
  {
   "cell_type": "code",
   "execution_count": null,
   "metadata": {},
   "outputs": [],
   "source": []
  }
 ],
 "metadata": {
  "kernelspec": {
   "display_name": "Python 3",
   "language": "python",
   "name": "python3"
  },
  "language_info": {
   "codemirror_mode": {
    "name": "ipython",
    "version": 3
   },
   "file_extension": ".py",
   "mimetype": "text/x-python",
   "name": "python",
   "nbconvert_exporter": "python",
   "pygments_lexer": "ipython3",
   "version": "3.6.8"
  }
 },
 "nbformat": 4,
 "nbformat_minor": 4
}
