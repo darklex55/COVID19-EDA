{
 "cells": [
  {
   "cell_type": "code",
   "execution_count": 1,
   "metadata": {},
   "outputs": [],
   "source": [
    "import pandas as pd\n",
    "import numpy as np\n",
    "import seaborn as sns\n",
    "from datetime import date, timedelta"
   ]
  },
  {
   "cell_type": "code",
   "execution_count": 2,
   "metadata": {},
   "outputs": [],
   "source": [
    "df = pd.read_csv('../Datasets/Covid/covid_19_clean_complete.csv')"
   ]
  },
  {
   "cell_type": "code",
   "execution_count": 3,
   "metadata": {},
   "outputs": [
    {
     "name": "stdout",
     "output_type": "stream",
     "text": [
      "<class 'pandas.core.frame.DataFrame'>\n",
      "RangeIndex: 15064 entries, 0 to 15063\n",
      "Data columns (total 8 columns):\n",
      "Province/State    7056 non-null object\n",
      "Country/Region    15064 non-null object\n",
      "Lat               15064 non-null float64\n",
      "Long              15064 non-null float64\n",
      "Date              15064 non-null object\n",
      "Confirmed         15064 non-null int64\n",
      "Deaths            15064 non-null int64\n",
      "Recovered         15064 non-null int64\n",
      "dtypes: float64(2), int64(3), object(3)\n",
      "memory usage: 941.6+ KB\n",
      "None\n"
     ]
    },
    {
     "data": {
      "text/html": [
       "<div>\n",
       "<style scoped>\n",
       "    .dataframe tbody tr th:only-of-type {\n",
       "        vertical-align: middle;\n",
       "    }\n",
       "\n",
       "    .dataframe tbody tr th {\n",
       "        vertical-align: top;\n",
       "    }\n",
       "\n",
       "    .dataframe thead th {\n",
       "        text-align: right;\n",
       "    }\n",
       "</style>\n",
       "<table border=\"1\" class=\"dataframe\">\n",
       "  <thead>\n",
       "    <tr style=\"text-align: right;\">\n",
       "      <th></th>\n",
       "      <th>Province/State</th>\n",
       "      <th>Country/Region</th>\n",
       "      <th>Lat</th>\n",
       "      <th>Long</th>\n",
       "      <th>Date</th>\n",
       "      <th>Confirmed</th>\n",
       "      <th>Deaths</th>\n",
       "      <th>Recovered</th>\n",
       "    </tr>\n",
       "  </thead>\n",
       "  <tbody>\n",
       "    <tr>\n",
       "      <th>13756</th>\n",
       "      <td>NaN</td>\n",
       "      <td>Greece</td>\n",
       "      <td>39.0742</td>\n",
       "      <td>21.8243</td>\n",
       "      <td>3/13/20</td>\n",
       "      <td>190</td>\n",
       "      <td>1</td>\n",
       "      <td>0</td>\n",
       "    </tr>\n",
       "    <tr>\n",
       "      <th>14025</th>\n",
       "      <td>NaN</td>\n",
       "      <td>Greece</td>\n",
       "      <td>39.0742</td>\n",
       "      <td>21.8243</td>\n",
       "      <td>3/14/20</td>\n",
       "      <td>228</td>\n",
       "      <td>3</td>\n",
       "      <td>8</td>\n",
       "    </tr>\n",
       "    <tr>\n",
       "      <th>14294</th>\n",
       "      <td>NaN</td>\n",
       "      <td>Greece</td>\n",
       "      <td>39.0742</td>\n",
       "      <td>21.8243</td>\n",
       "      <td>3/15/20</td>\n",
       "      <td>331</td>\n",
       "      <td>4</td>\n",
       "      <td>8</td>\n",
       "    </tr>\n",
       "    <tr>\n",
       "      <th>14563</th>\n",
       "      <td>NaN</td>\n",
       "      <td>Greece</td>\n",
       "      <td>39.0742</td>\n",
       "      <td>21.8243</td>\n",
       "      <td>3/16/20</td>\n",
       "      <td>331</td>\n",
       "      <td>4</td>\n",
       "      <td>8</td>\n",
       "    </tr>\n",
       "    <tr>\n",
       "      <th>14832</th>\n",
       "      <td>NaN</td>\n",
       "      <td>Greece</td>\n",
       "      <td>39.0742</td>\n",
       "      <td>21.8243</td>\n",
       "      <td>3/17/20</td>\n",
       "      <td>387</td>\n",
       "      <td>5</td>\n",
       "      <td>8</td>\n",
       "    </tr>\n",
       "  </tbody>\n",
       "</table>\n",
       "</div>"
      ],
      "text/plain": [
       "      Province/State Country/Region      Lat     Long     Date  Confirmed  \\\n",
       "13756            NaN         Greece  39.0742  21.8243  3/13/20        190   \n",
       "14025            NaN         Greece  39.0742  21.8243  3/14/20        228   \n",
       "14294            NaN         Greece  39.0742  21.8243  3/15/20        331   \n",
       "14563            NaN         Greece  39.0742  21.8243  3/16/20        331   \n",
       "14832            NaN         Greece  39.0742  21.8243  3/17/20        387   \n",
       "\n",
       "       Deaths  Recovered  \n",
       "13756       1          0  \n",
       "14025       3          8  \n",
       "14294       4          8  \n",
       "14563       4          8  \n",
       "14832       5          8  "
      ]
     },
     "execution_count": 3,
     "metadata": {},
     "output_type": "execute_result"
    }
   ],
   "source": [
    "print(df.info())  ##General info for dataset\n",
    "df[df['Country/Region']=='Greece'].tail()"
   ]
  },
  {
   "cell_type": "code",
   "execution_count": 4,
   "metadata": {},
   "outputs": [],
   "source": [
    "df['Day']=df['Date'].apply(lambda x: int(x.split('/')[1]))           ##Turn Date into\n",
    "df['Month']=df['Date'].apply(lambda x: int(x.split('/')[0]))         ##usefull, countable\n",
    "df.drop(['Date'],axis=1,inplace=True)                                ##data."
   ]
  },
  {
   "cell_type": "code",
   "execution_count": 5,
   "metadata": {
    "scrolled": true
   },
   "outputs": [
    {
     "name": "stderr",
     "output_type": "stream",
     "text": [
      "c:\\users\\alexa\\appdata\\local\\programs\\python\\python36\\lib\\site-packages\\ipykernel_launcher.py:10: UserWarning: Boolean Series key will be reindexed to match DataFrame index.\n",
      "  # Remove the CWD from sys.path while we load stuff.\n",
      "c:\\users\\alexa\\appdata\\local\\programs\\python\\python36\\lib\\site-packages\\ipykernel_launcher.py:11: UserWarning: Boolean Series key will be reindexed to match DataFrame index.\n",
      "  # This is added back by InteractiveShellApp.init_path()\n",
      "c:\\users\\alexa\\appdata\\local\\programs\\python\\python36\\lib\\site-packages\\ipykernel_launcher.py:12: UserWarning: Boolean Series key will be reindexed to match DataFrame index.\n",
      "  if sys.path[0] == '':\n",
      "c:\\users\\alexa\\appdata\\local\\programs\\python\\python36\\lib\\site-packages\\ipykernel_launcher.py:13: UserWarning: Boolean Series key will be reindexed to match DataFrame index.\n",
      "  del sys.path[0]\n"
     ]
    }
   ],
   "source": [
    "Country_List = df['Country/Region'].unique() #List of all countries in dataset\n",
    "Confirmed_List = [] #List of confirmed cases of the countries in Country_List\n",
    "Deaths_List = [] #List of deaths in above of the countries in Country_List\n",
    "D_Confirmed_List = [] #List of change in the number of confirmed cases of the countries in Country_List\n",
    "D_Deaths_List = [] #List of change in the number of deaths of the countries in Country_List\n",
    "\n",
    "dt = 1 # How many days before today to be set as the reference point for the collected data\n",
    "\n",
    "for i in Country_List:\n",
    "    Confirmed_List.append(df[df['Country/Region']==i][df['Month']==int(str(date.today()-timedelta(days=dt)).split('-')[1])][df['Day']==int(str(date.today()-timedelta(days=dt)).split('-')[2])]['Confirmed'].to_numpy()[0])\n",
    "    Deaths_List.append(df[df['Country/Region']==i][df['Month']==int(str(date.today()-timedelta(days=dt)).split('-')[1])][df['Day']==int(str(date.today()-timedelta(days=dt)).split('-')[2])]['Deaths'].to_numpy()[0])\n",
    "    D_Confirmed_List.append(df[df['Country/Region']==i][df['Month']==int(str(date.today()-timedelta(days=dt)).split('-')[1])][df['Day']==int(str(date.today()-timedelta(days=dt)).split('-')[2])]['Confirmed'].to_numpy()[0]-df[df['Country/Region']==i][df['Month']==int(str(date.today()-timedelta(days=dt+1)).split('-')[1])][df['Day']==int(str(date.today()-timedelta(days=dt+1)).split('-')[2])]['Confirmed'].to_numpy()[0])\n",
    "    D_Deaths_List.append(df[df['Country/Region']==i][df['Month']==int(str(date.today()-timedelta(days=dt)).split('-')[1])][df['Day']==int(str(date.today()-timedelta(days=dt)).split('-')[2])]['Deaths'].to_numpy()[0]-df[df['Country/Region']==i][df['Month']==int(str(date.today()-timedelta(days=dt+1)).split('-')[1])][df['Day']==int(str(date.today()-timedelta(days=dt+1)).split('-')[2])]['Deaths'].to_numpy()[0])\n",
    "    \n",
    "Sorted_Confirmed_List = np.argsort(Confirmed_List)  #Sort by Confirmed Cases\n",
    "Sorted_Deaths_List = np.argsort(Deaths_List)  # Sort by Deaths\n",
    "Sorted_D_Confirmed_List = np.argsort(D_Confirmed_List) #Sort by change in Confirmed Cases\n",
    "Sorted_D_Deaths_List = np.argsort(D_Deaths_List) #Sort by change in Deaths"
   ]
  },
  {
   "cell_type": "code",
   "execution_count": 6,
   "metadata": {},
   "outputs": [
    {
     "name": "stdout",
     "output_type": "stream",
     "text": [
      "China \n",
      "Confirmed: 67799  \n",
      "only from the previous day: 1  \n",
      "Deaths: 3111  \n",
      "only from the previous day: 12  \n",
      "\n",
      "Italy \n",
      "Confirmed: 31506  \n",
      "only from the previous day: 3526  \n",
      "Deaths: 2503  \n",
      "only from the previous day: 345  \n",
      "\n",
      "Iran \n",
      "Confirmed: 16169  \n",
      "only from the previous day: 1178  \n",
      "Deaths: 988  \n",
      "only from the previous day: 135  \n",
      "\n",
      "As of 2020-03-17.\n"
     ]
    }
   ],
   "source": [
    "for i in np.flip(Sorted_Confirmed_List[-3:]): #Printing the stats on the 4 countries with most confirmed cases\n",
    "    print(Country_List[i]+\n",
    "          ' \\nConfirmed:',Confirmed_List[i],\n",
    "          ' \\nonly from the previous day:',D_Confirmed_List[i],\n",
    "          ' \\nDeaths:',Deaths_List[i],\n",
    "          ' \\nonly from the previous day:',D_Deaths_List[i],\n",
    "          ' \\n')\n",
    "\n",
    "print('As of '+str(date.today()-timedelta(days=dt))+'.')"
   ]
  },
  {
   "cell_type": "code",
   "execution_count": 7,
   "metadata": {},
   "outputs": [
    {
     "name": "stdout",
     "output_type": "stream",
     "text": [
      "Italy \n",
      "Confirmed: 31506  \n",
      "only from the previous day: 3526  \n",
      "Deaths: 2503  \n",
      "only from the previous day: 345  \n",
      "\n",
      "Germany \n",
      "Confirmed: 9257  \n",
      "only from the previous day: 1985  \n",
      "Deaths: 24  \n",
      "only from the previous day: 7  \n",
      "\n",
      "Spain \n",
      "Confirmed: 11748  \n",
      "only from the previous day: 1806  \n",
      "Deaths: 533  \n",
      "only from the previous day: 191  \n",
      "\n",
      "As of 2020-03-17.\n"
     ]
    }
   ],
   "source": [
    "for i in np.flip(Sorted_D_Confirmed_List[-3:]): #Printing the stats on the 4 countries with biggest change of confirmed cases\n",
    "    print(Country_List[i]+\n",
    "          ' \\nConfirmed:',Confirmed_List[i],\n",
    "          ' \\nonly from the previous day:',D_Confirmed_List[i],\n",
    "          ' \\nDeaths:',Deaths_List[i],\n",
    "          ' \\nonly from the previous day:',D_Deaths_List[i],\n",
    "          ' \\n')\n",
    "\n",
    "print('As of '+str(date.today()-timedelta(days=dt))+'.')"
   ]
  }
 ],
 "metadata": {
  "kernelspec": {
   "display_name": "Python 3",
   "language": "python",
   "name": "python3"
  },
  "language_info": {
   "codemirror_mode": {
    "name": "ipython",
    "version": 3
   },
   "file_extension": ".py",
   "mimetype": "text/x-python",
   "name": "python",
   "nbconvert_exporter": "python",
   "pygments_lexer": "ipython3",
   "version": "3.6.8"
  }
 },
 "nbformat": 4,
 "nbformat_minor": 4
}
