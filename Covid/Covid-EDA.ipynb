{
 "cells": [
  {
   "cell_type": "code",
   "execution_count": 1,
   "metadata": {},
   "outputs": [],
   "source": [
    "import pandas as pd\n",
    "import numpy as np\n",
    "import seaborn as sns\n",
    "from datetime import date, timedelta"
   ]
  },
  {
   "cell_type": "code",
   "execution_count": 2,
   "metadata": {},
   "outputs": [],
   "source": [
    "df = pd.read_csv('../Datasets/Covid/covid_19_clean_complete.csv')"
   ]
  },
  {
   "cell_type": "code",
   "execution_count": 3,
   "metadata": {},
   "outputs": [
    {
     "name": "stdout",
     "output_type": "stream",
     "text": [
      "<class 'pandas.core.frame.DataFrame'>\n",
      "RangeIndex: 13932 entries, 0 to 13931\n",
      "Data columns (total 8 columns):\n",
      "Province/State    6426 non-null object\n",
      "Country/Region    13932 non-null object\n",
      "Lat               13932 non-null float64\n",
      "Long              13932 non-null float64\n",
      "Date              13932 non-null object\n",
      "Confirmed         13932 non-null int64\n",
      "Deaths            13932 non-null int64\n",
      "Recovered         13932 non-null int64\n",
      "dtypes: float64(2), int64(3), object(3)\n",
      "memory usage: 870.9+ KB\n",
      "None\n"
     ]
    },
    {
     "data": {
      "text/html": [
       "<div>\n",
       "<style scoped>\n",
       "    .dataframe tbody tr th:only-of-type {\n",
       "        vertical-align: middle;\n",
       "    }\n",
       "\n",
       "    .dataframe tbody tr th {\n",
       "        vertical-align: top;\n",
       "    }\n",
       "\n",
       "    .dataframe thead th {\n",
       "        text-align: right;\n",
       "    }\n",
       "</style>\n",
       "<table border=\"1\" class=\"dataframe\">\n",
       "  <thead>\n",
       "    <tr style=\"text-align: right;\">\n",
       "      <th></th>\n",
       "      <th>Province/State</th>\n",
       "      <th>Country/Region</th>\n",
       "      <th>Lat</th>\n",
       "      <th>Long</th>\n",
       "      <th>Date</th>\n",
       "      <th>Confirmed</th>\n",
       "      <th>Deaths</th>\n",
       "      <th>Recovered</th>\n",
       "    </tr>\n",
       "  </thead>\n",
       "  <tbody>\n",
       "    <tr>\n",
       "      <th>12679</th>\n",
       "      <td>NaN</td>\n",
       "      <td>Greece</td>\n",
       "      <td>39.0742</td>\n",
       "      <td>21.8243</td>\n",
       "      <td>3/11/20</td>\n",
       "      <td>99</td>\n",
       "      <td>1</td>\n",
       "      <td>0</td>\n",
       "    </tr>\n",
       "    <tr>\n",
       "      <th>12937</th>\n",
       "      <td>NaN</td>\n",
       "      <td>Greece</td>\n",
       "      <td>39.0742</td>\n",
       "      <td>21.8243</td>\n",
       "      <td>3/12/20</td>\n",
       "      <td>99</td>\n",
       "      <td>1</td>\n",
       "      <td>0</td>\n",
       "    </tr>\n",
       "    <tr>\n",
       "      <th>13195</th>\n",
       "      <td>NaN</td>\n",
       "      <td>Greece</td>\n",
       "      <td>39.0742</td>\n",
       "      <td>21.8243</td>\n",
       "      <td>3/13/20</td>\n",
       "      <td>190</td>\n",
       "      <td>1</td>\n",
       "      <td>0</td>\n",
       "    </tr>\n",
       "    <tr>\n",
       "      <th>13453</th>\n",
       "      <td>NaN</td>\n",
       "      <td>Greece</td>\n",
       "      <td>39.0742</td>\n",
       "      <td>21.8243</td>\n",
       "      <td>3/14/20</td>\n",
       "      <td>228</td>\n",
       "      <td>3</td>\n",
       "      <td>8</td>\n",
       "    </tr>\n",
       "    <tr>\n",
       "      <th>13711</th>\n",
       "      <td>NaN</td>\n",
       "      <td>Greece</td>\n",
       "      <td>39.0742</td>\n",
       "      <td>21.8243</td>\n",
       "      <td>3/15/20</td>\n",
       "      <td>331</td>\n",
       "      <td>4</td>\n",
       "      <td>8</td>\n",
       "    </tr>\n",
       "  </tbody>\n",
       "</table>\n",
       "</div>"
      ],
      "text/plain": [
       "      Province/State Country/Region      Lat     Long     Date  Confirmed  \\\n",
       "12679            NaN         Greece  39.0742  21.8243  3/11/20         99   \n",
       "12937            NaN         Greece  39.0742  21.8243  3/12/20         99   \n",
       "13195            NaN         Greece  39.0742  21.8243  3/13/20        190   \n",
       "13453            NaN         Greece  39.0742  21.8243  3/14/20        228   \n",
       "13711            NaN         Greece  39.0742  21.8243  3/15/20        331   \n",
       "\n",
       "       Deaths  Recovered  \n",
       "12679       1          0  \n",
       "12937       1          0  \n",
       "13195       1          0  \n",
       "13453       3          8  \n",
       "13711       4          8  "
      ]
     },
     "execution_count": 3,
     "metadata": {},
     "output_type": "execute_result"
    }
   ],
   "source": [
    "print(df.info())  ##General info for dataset\n",
    "df[df['Country/Region']=='Greece'].tail()"
   ]
  },
  {
   "cell_type": "code",
   "execution_count": 4,
   "metadata": {},
   "outputs": [],
   "source": [
    "df['Day']=df['Date'].apply(lambda x: int(x.split('/')[1]))           ##Turn Date into\n",
    "df['Month']=df['Date'].apply(lambda x: int(x.split('/')[0]))         ##usefull, countable\n",
    "df.drop(['Date'],axis=1,inplace=True)                                ##data."
   ]
  },
  {
   "cell_type": "code",
   "execution_count": 12,
   "metadata": {
    "scrolled": true
   },
   "outputs": [
    {
     "name": "stderr",
     "output_type": "stream",
     "text": [
      "c:\\users\\alexa\\appdata\\local\\programs\\python\\python36\\lib\\site-packages\\ipykernel_launcher.py:10: UserWarning: Boolean Series key will be reindexed to match DataFrame index.\n",
      "  # Remove the CWD from sys.path while we load stuff.\n",
      "c:\\users\\alexa\\appdata\\local\\programs\\python\\python36\\lib\\site-packages\\ipykernel_launcher.py:11: UserWarning: Boolean Series key will be reindexed to match DataFrame index.\n",
      "  # This is added back by InteractiveShellApp.init_path()\n",
      "c:\\users\\alexa\\appdata\\local\\programs\\python\\python36\\lib\\site-packages\\ipykernel_launcher.py:12: UserWarning: Boolean Series key will be reindexed to match DataFrame index.\n",
      "  if sys.path[0] == '':\n",
      "c:\\users\\alexa\\appdata\\local\\programs\\python\\python36\\lib\\site-packages\\ipykernel_launcher.py:13: UserWarning: Boolean Series key will be reindexed to match DataFrame index.\n",
      "  del sys.path[0]\n"
     ]
    }
   ],
   "source": [
    "Country_List = df['Country/Region'].unique() #List of all countries in dataset\n",
    "Confirmed_List = [] #List of confirmed cases of the countries in Country_List\n",
    "Deaths_List = [] #List of deaths in above of the countries in Country_List\n",
    "D_Confirmed_List = [] #List of change in the number of confirmed cases of the countries in Country_List\n",
    "D_Deaths_List = [] #List of change in the number of deaths of the countries in Country_List\n",
    "\n",
    "dt = 3 # How many days before today to be set as the reference point for the collected data\n",
    "\n",
    "for i in Country_List:\n",
    "    Confirmed_List.append(df[df['Country/Region']==i][df['Month']==int(str(date.today()-timedelta(days=dt)).split('-')[1])][df['Day']==int(str(date.today()-timedelta(days=dt)).split('-')[2])]['Confirmed'].to_numpy()[0])\n",
    "    Deaths_List.append(df[df['Country/Region']==i][df['Month']==int(str(date.today()-timedelta(days=dt)).split('-')[1])][df['Day']==int(str(date.today()-timedelta(days=dt)).split('-')[2])]['Deaths'].to_numpy()[0])\n",
    "    D_Confirmed_List.append(df[df['Country/Region']==i][df['Month']==int(str(date.today()-timedelta(days=dt)).split('-')[1])][df['Day']==int(str(date.today()-timedelta(days=dt)).split('-')[2])]['Confirmed'].to_numpy()[0]-df[df['Country/Region']==i][df['Month']==int(str(date.today()-timedelta(days=dt+1)).split('-')[1])][df['Day']==int(str(date.today()-timedelta(days=dt+1)).split('-')[2])]['Confirmed'].to_numpy()[0])\n",
    "    D_Deaths_List.append(df[df['Country/Region']==i][df['Month']==int(str(date.today()-timedelta(days=dt)).split('-')[1])][df['Day']==int(str(date.today()-timedelta(days=dt)).split('-')[2])]['Deaths'].to_numpy()[0]-df[df['Country/Region']==i][df['Month']==int(str(date.today()-timedelta(days=dt+1)).split('-')[1])][df['Day']==int(str(date.today()-timedelta(days=dt+1)).split('-')[2])]['Deaths'].to_numpy()[0])\n",
    "    \n",
    "Sorted_Confirmed_List = np.argsort(Confirmed_List)  #Sort by Confirmed Cases\n",
    "Sorted_Deaths_List = np.argsort(Deaths_List)  # Sort by Deaths\n",
    "Sorted_D_Confirmed_List = np.argsort(D_Confirmed_List) #Sort by change in Confirmed Cases\n",
    "Sorted_D_Deaths_List = np.argsort(D_Deaths_List) #Sort by change in Deaths"
   ]
  },
  {
   "cell_type": "code",
   "execution_count": 13,
   "metadata": {},
   "outputs": [
    {
     "name": "stdout",
     "output_type": "stream",
     "text": [
      "China \n",
      "Confirmed: 67794  \n",
      "only from the previous day: 4  \n",
      "Deaths: 3085  \n",
      "only from the previous day: 10  \n",
      "\n",
      "Italy \n",
      "Confirmed: 24747  \n",
      "only from the previous day: 3590  \n",
      "Deaths: 1809  \n",
      "only from the previous day: 368  \n",
      "\n",
      "Iran \n",
      "Confirmed: 13938  \n",
      "only from the previous day: 1209  \n",
      "Deaths: 724  \n",
      "only from the previous day: 113  \n",
      "\n",
      "As of 2020-03-15.\n"
     ]
    }
   ],
   "source": [
    "for i in np.flip(Sorted_Confirmed_List[-3:]): #Printing the stats on the 4 countries with most confirmed cases\n",
    "    print(Country_List[i]+\n",
    "          ' \\nConfirmed:',Confirmed_List[i],\n",
    "          ' \\nonly from the previous day:',D_Confirmed_List[i],\n",
    "          ' \\nDeaths:',Deaths_List[i],\n",
    "          ' \\nonly from the previous day:',D_Deaths_List[i],\n",
    "          ' \\n')\n",
    "\n",
    "print('As of '+str(date.today()-timedelta(days=dt))+'.')"
   ]
  },
  {
   "cell_type": "code",
   "execution_count": 14,
   "metadata": {},
   "outputs": [
    {
     "name": "stdout",
     "output_type": "stream",
     "text": [
      "Italy \n",
      "Confirmed: 24747  \n",
      "only from the previous day: 3590  \n",
      "Deaths: 1809  \n",
      "only from the previous day: 368  \n",
      "\n",
      "Spain \n",
      "Confirmed: 7798  \n",
      "only from the previous day: 1407  \n",
      "Deaths: 289  \n",
      "only from the previous day: 94  \n",
      "\n",
      "Germany \n",
      "Confirmed: 5795  \n",
      "only from the previous day: 1210  \n",
      "Deaths: 11  \n",
      "only from the previous day: 2  \n",
      "\n",
      "As of 2020-03-15.\n"
     ]
    }
   ],
   "source": [
    "for i in np.flip(Sorted_D_Confirmed_List[-3:]): #Printing the stats on the 4 countries with biggest change of confirmed cases\n",
    "    print(Country_List[i]+\n",
    "          ' \\nConfirmed:',Confirmed_List[i],\n",
    "          ' \\nonly from the previous day:',D_Confirmed_List[i],\n",
    "          ' \\nDeaths:',Deaths_List[i],\n",
    "          ' \\nonly from the previous day:',D_Deaths_List[i],\n",
    "          ' \\n')\n",
    "\n",
    "print('As of '+str(date.today()-timedelta(days=dt))+'.')"
   ]
  }
 ],
 "metadata": {
  "kernelspec": {
   "display_name": "Python 3",
   "language": "python",
   "name": "python3"
  },
  "language_info": {
   "codemirror_mode": {
    "name": "ipython",
    "version": 3
   },
   "file_extension": ".py",
   "mimetype": "text/x-python",
   "name": "python",
   "nbconvert_exporter": "python",
   "pygments_lexer": "ipython3",
   "version": "3.6.8"
  }
 },
 "nbformat": 4,
 "nbformat_minor": 4
}
